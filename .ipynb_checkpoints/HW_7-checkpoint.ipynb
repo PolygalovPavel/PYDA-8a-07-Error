{
 "cells": [
  {
   "cell_type": "markdown",
   "metadata": {},
   "source": [
    "# Домашнее задание"
   ]
  },
  {
   "cell_type": "markdown",
   "metadata": {},
   "source": [
    "### Задание 1\n",
    "\n",
    "Напишите функцию date_range, которая возвращает список дней между датами start_date и end_date. \n",
    "\n",
    "Даты должны вводиться в формате YYYY-MM-DD."
   ]
  },
  {
   "cell_type": "markdown",
   "metadata": {},
   "source": [
    "### Задание 2\n",
    "\n",
    "Дополните функцию из первого задания проверкой на корректность дат. \n",
    "\n",
    "В случае неверного формата или если start_date > end_date должен возвращаться пустой список."
   ]
  },
  {
   "cell_type": "markdown",
   "metadata": {},
   "source": [
    "### Задание 3\n",
    "\n",
    "Дан поток дат в формате YYYY-MM-DD, в которых встречаются некорректные значения:\n",
    "\n",
    "stream = [‘2018-04-02’, ‘2018-02-29’, ‘2018-19-02’]\n",
    "\n",
    "Напишите функцию, которая проверяет эти даты на корректность. \n",
    "\n",
    "Т. е. для каждой даты возвращает True (дата корректна) или False (некорректная дата)."
   ]
  },
  {
   "cell_type": "code",
   "execution_count": 23,
   "metadata": {},
   "outputs": [],
   "source": [
    "# Задание 1\n",
    "import re\n",
    "from datetime import datetime, timedelta\n",
    "\n",
    "def date_range(start_date, end_date):\n",
    "    \"\"\"\n",
    "    Функция возвращает список дней между датами start_date и end_date в формате YYYY-MM-DD\n",
    "    \"\"\"\n",
    "    list_dates = []\n",
    "    count_date = 0\n",
    "    temp_start_date = back_date(\"1970-01-01\")\n",
    "    temp_end_date = back_date(\"1970-01-01\")\n",
    "    if start_date and end_date:\n",
    "        if try_date(end_date):\n",
    "            temp_end_date = back_date(end_date)\n",
    "        if try_date(start_date) and try_date(end_date):\n",
    "            temp_start_date = back_date(start_date)\n",
    "            if try_between_date(temp_start_date, temp_end_date):\n",
    "                #list_dates.append(format_date(temp_start_date))\n",
    "                for count_point in range(1,(temp_end_date-temp_start_date).days,1):\n",
    "                    list_dates.append(format_date(temp_start_date+timedelta(days=count_point)))\n",
    "    return list_dates\n",
    "\n",
    "# Задание 3\n",
    "def try_corect_date(temp_date):\n",
    "    try:\n",
    "        back_date(temp_date)\n",
    "        return True\n",
    "    except:\n",
    "        return False\n",
    "\n",
    "def try_date(temp_date):\n",
    "    \"\"\"\n",
    "    Функция проверяет строку на соответствие даты форматов dd.mm.yyyy или dd/mm/yyyy или dd-mm-yyyy\n",
    "    \"\"\"\n",
    "    if re.findall(r'\\d\\d\\.\\d\\d\\.\\d\\d\\d\\d', temp_date) or re.findall(r'\\d\\d/\\d\\d/\\d\\d\\d\\d', temp_date) or re.findall(r'\\d\\d-\\d\\d-\\d\\d\\d\\d', temp_date):\n",
    "        return try_corect_date(temp_date)\n",
    "    elif re.findall(r'\\d\\d\\d\\d\\.\\d\\d\\.\\d\\d', temp_date) or re.findall(r'\\d\\d\\d\\d/\\d\\d/\\d\\d', temp_date) or re.findall(r'\\d\\d\\d\\d-\\d\\d-\\d\\d', temp_date):\n",
    "        return try_corect_date(temp_date)\n",
    "    else:\n",
    "        print(8)\n",
    "        return False\n",
    "    \n",
    "def back_date(temp_date):\n",
    "    \"\"\"\n",
    "    Функция преобразует строку с датой форматов dd.mm.yyyy или dd/mm/yyyy или dd-mm-yyyy в Date\n",
    "    Если формат не соответствует, то возвращает None\n",
    "    \"\"\"\n",
    "    if re.findall(r'\\d\\d\\.\\d\\d\\.\\d\\d\\d\\d', temp_date):\n",
    "        return datetime.strptime(temp_date, \"%d.%m.%Y\")\n",
    "    elif re.findall(r'\\d\\d/\\d\\d/\\d\\d\\d\\d', temp_date):\n",
    "        return datetime.strptime(temp_date, \"%d/%m/%Y\")\n",
    "    elif re.findall(r'\\d\\d-\\d\\d-\\d\\d\\d\\d', temp_date):\n",
    "        return datetime.strptime(temp_date, \"%d-%m-%Y\")\n",
    "    if re.findall(r'\\d\\d\\d\\d\\.\\d\\d\\.\\d\\d', temp_date):\n",
    "        return datetime.strptime(temp_date, \"%Y.%m.%d\")\n",
    "    elif re.findall(r'\\d\\d\\d\\d/\\d\\d/\\d\\d', temp_date):\n",
    "        return datetime.strptime(temp_date, \"%Y/%m/%d\")\n",
    "    elif re.findall(r'\\d\\d\\d\\d-\\d\\d-\\d\\d', temp_date):\n",
    "        return datetime.strptime(temp_date, \"%Y-%m-%d\")\n",
    "    else:\n",
    "        return None\n",
    "\n",
    "# Задание 2\n",
    "def try_between_date(start_date, end_date):\n",
    "    if datetime.date(end_date)>datetime.date(start_date):\n",
    "        return True\n",
    "    else:\n",
    "        return False\n",
    "\n",
    "def format_date(temp_date):\n",
    "    return datetime.date(temp_date)"
   ]
  },
  {
   "cell_type": "code",
   "execution_count": 27,
   "metadata": {},
   "outputs": [
    {
     "name": "stdout",
     "output_type": "stream",
     "text": [
      "Введите начальную дату: 2020-01-01\n",
      "Введите конечную дату: 10-01-2020\n",
      "Список дат между введенными датами сформирован (не включительно):\n",
      "2020-01-02\n",
      "2020-01-03\n",
      "2020-01-04\n",
      "2020-01-05\n",
      "2020-01-06\n",
      "2020-01-07\n",
      "2020-01-08\n",
      "2020-01-09\n"
     ]
    }
   ],
   "source": [
    "import re\n",
    "from datetime import datetime, timedelta\n",
    "\n",
    "temp_start_date = input('Введите начальную дату: ')\n",
    "temp_end_date = input('Введите конечную дату: ')\n",
    "list_date = date_range(temp_start_date, temp_end_date)\n",
    "if list_date:\n",
    "    print('Список дат между введенными датами сформирован (не включительно):')\n",
    "    for temp2 in list_date:\n",
    "        print(temp2)\n",
    "else:\n",
    "    print('Список пустой! Проверьте корректность и порядок введенных дат')"
   ]
  },
  {
   "cell_type": "code",
   "execution_count": 28,
   "metadata": {},
   "outputs": [
    {
     "name": "stdout",
     "output_type": "stream",
     "text": [
      "True\n",
      "False\n",
      "False\n"
     ]
    }
   ],
   "source": [
    "stream = ['2018-04-02', '2018-02-29', '2018-19-02']\n",
    "for temp in stream:\n",
    "    print(try_date(temp))"
   ]
  },
  {
   "cell_type": "markdown",
   "metadata": {},
   "source": [
    "### Задание 4 (бонусное)\n",
    "\n",
    "Ваш коллега прислал код функции:\n",
    "\n",
    "- DEFAULT_USER_COUNT = 3\n",
    "\n",
    "def delete_and_return_last_user(region, default_list=[‘A100’, ‘A101’, ‘A102’]):\n",
    "\n",
    "\"\"“\n",
    "\n",
    "Удаляет из списка default_list последнего пользователя и возвращает ID нового последнего пользователя.\n",
    "\n",
    "”\"\"\n",
    "\n",
    "element_to_delete = default_list[-1]\n",
    "\n",
    "default_list.remove(element_to_delete)\n",
    "\n",
    "return default_list[DEFAULT_USER_COUNT-2]\n",
    "\n",
    "При однократном вызове этой функции все работает корректно:\n",
    "\n",
    "delete_and_return_last_user(1)\n",
    "\n",
    "‘A101’\n",
    "\n",
    "Однако, при повторном вызове получается ошибка IndexError: list index out of range.\n",
    "\n",
    "##### Задание:\n",
    "1) Что значит ошибка list index out of range?\n",
    "\n",
    "2) Почему при первом запуске функция работает корректно, а при втором - нет?"
   ]
  },
  {
   "cell_type": "code",
   "execution_count": 37,
   "metadata": {},
   "outputs": [],
   "source": [
    "# Задание 4 (бонусное)\n",
    "DEFAULT_USER_COUNT = 3"
   ]
  },
  {
   "cell_type": "code",
   "execution_count": 83,
   "metadata": {},
   "outputs": [],
   "source": [
    "def delete_and_return_last_user(region, default_list=['A100', 'A101', 'A102']):\n",
    "    \"\"\"\n",
    "    Удаляет из списка default_list последнего пользователя и возвращает ID нового последнего пользователя.\n",
    "    \"\"\"\n",
    "    if default_list:\n",
    "        element_to_delete = default_list[-1]\n",
    "        default_list.remove(element_to_delete)\n",
    "        temp_default_list = default_list\n",
    "        #return temp_default_list[DEFAULT_USER_COUNT-2]\n",
    "        if temp_default_list:\n",
    "            return temp_default_list[-1]\n",
    "        else:\n",
    "            return temp_default_list"
   ]
  },
  {
   "cell_type": "code",
   "execution_count": 87,
   "metadata": {},
   "outputs": [],
   "source": [
    "delete_and_return_last_user(1)"
   ]
  },
  {
   "cell_type": "markdown",
   "metadata": {},
   "source": [
    "### Ответ\n",
    "1) Ошибка list index out of range означает, что программа пытается обратиться к index, которого нет\n",
    "\n",
    "2) При инициализации функции, был создан список по умолчанию default_list=['A100', 'A101', 'A102'] с 3-мя значениями. \n",
    "\n",
    "При первом запуске функции, ей отправляется только значение region=1 и функция в значение default_list принимает ранее созданные значения по умолчанию.\n",
    "\n",
    "При втором запуске, так как значение default_list не отправляется, функция повторно обращается к значениям по умолчанию, но первое выполнение удалило последнее значения, и значений стало 2 (default_list=['A100', 'A101']) и при обращении к индексу \"DEFAULT_USER_COUNT = 3 - 2\" выдается ошибка, так как значения с индексом отсутствует\n",
    "\n",
    "3) Выше исправление данной функции"
   ]
  }
 ],
 "metadata": {
  "kernelspec": {
   "display_name": "Python 3",
   "language": "python",
   "name": "python3"
  },
  "language_info": {
   "codemirror_mode": {
    "name": "ipython",
    "version": 3
   },
   "file_extension": ".py",
   "mimetype": "text/x-python",
   "name": "python",
   "nbconvert_exporter": "python",
   "pygments_lexer": "ipython3",
   "version": "3.7.6"
  }
 },
 "nbformat": 4,
 "nbformat_minor": 2
}
